{
 "cells": [
  {
   "cell_type": "markdown",
   "metadata": {},
   "source": [
    "# Evaluating Rerankers\n",
    "\n",
    "In this notebook we will showcase how you can evaluate reranking models with Baguetter."
   ]
  },
  {
   "cell_type": "markdown",
   "metadata": {},
   "source": [
    "We showcase here the usage of our inference engine [Ofen](https://github/mixedbread-ai/ofen) for generating the embeddings."
   ]
  },
  {
   "cell_type": "code",
   "execution_count": null,
   "metadata": {},
   "outputs": [],
   "source": [
    "%pip install \"ofen[torch]==0.0.1\""
   ]
  },
  {
   "cell_type": "code",
   "execution_count": 2,
   "metadata": {},
   "outputs": [],
   "source": [
    "from ofen.models import CrossEncoder\n",
    "from baguetter.evaluation import evaluate_retrievers, HFDataset\n",
    "from baguetter.utils.model_helpers import create_post_processing_fn\n",
    "from baguetter.indices import SearchEngine"
   ]
  },
  {
   "cell_type": "markdown",
   "metadata": {},
   "source": [
    "## 1. Initialize the Reranker"
   ]
  },
  {
   "cell_type": "code",
   "execution_count": 3,
   "metadata": {},
   "outputs": [],
   "source": [
    "reranker = CrossEncoder.from_pretrained(\"mixedbread-ai/mxbai-rerank-xsmall-v1\")\n",
    "\n",
    "# Convert model to half precision (FP16) for efficiency\n",
    "reranker.half()\n",
    "\n",
    "# Create the reranking function to rerank the search results\n",
    "rerank_fn = create_post_processing_fn(reranker, batch_size=256)"
   ]
  },
  {
   "cell_type": "markdown",
   "metadata": {},
   "source": [
    "## 2. Evaluate the Reranker on top of BMX"
   ]
  },
  {
   "cell_type": "code",
   "execution_count": 4,
   "metadata": {},
   "outputs": [
    {
     "name": "stdout",
     "output_type": "stream",
     "text": [
      "Evaluating  1 retrievers...\n",
      "---------------------------------------------------------------\n",
      "Datasets:  ['mteb/scidocs']\n",
      "Top K:  100\n",
      "Metrics:  ['ndcg@1', 'ndcg@5', 'ndcg@10', 'precision@1', 'precision@5', 'precision@10', 'mrr@1', 'mrr@5', 'mrr@10']\n",
      "Ignore identical IDs:  True\n",
      "\n",
      "Evaluating Dataset: mteb/scidocs\n",
      "---------------------------------------------------------------\n",
      "Starting Adding 25657 documents to engine...\n"
     ]
    },
    {
     "name": "stderr",
     "output_type": "stream",
     "text": [
      "Tokenization: 100%|██████████| 25657/25657 [00:13<00:00, 1934.99it/s]\n",
      "Building TDF matrix: 100%|██████████| 25657/25657 [00:00<00:00, 32877.84it/s]\n",
      "Building inverted index: 100%|██████████| 61627/61627 [00:09<00:00, 6276.60it/s]\n"
     ]
    },
    {
     "name": "stdout",
     "output_type": "stream",
     "text": [
      "Adding 25657 documents to engine took 24.99 seconds\n",
      "Starting Searching 1000 queries with engine...\n"
     ]
    },
    {
     "name": "stderr",
     "output_type": "stream",
     "text": [
      "Top-K Search: 100%|██████████| 1000/1000 [00:02<00:00, 363.89it/s]\n",
      "Ranking: 100%|██████████| 782/782 [01:32<00:00,  8.48it/s]\n"
     ]
    },
    {
     "name": "stdout",
     "output_type": "stream",
     "text": [
      "Searching 1000 queries with engine took 98.81 seconds\n",
      "\n",
      "Report (rounded):\n",
      "---------------------------------------------------------------\n",
      "#    Model      NDCG@1    NDCG@5    NDCG@10    P@1    P@5    P@10    MRR@1    MRR@5    MRR@10\n",
      "---  -------  --------  --------  ---------  -----  -----  ------  -------  -------  --------\n",
      "a    engine      0.206     0.143      0.171  0.206  0.126   0.088    0.206    0.287       0.3\n"
     ]
    }
   ],
   "source": [
    "result = evaluate_retrievers(\n",
    "    datasets=[HFDataset(\"mteb/scidocs\")],\n",
    "    retriever_factories={\n",
    "        \"engine\": lambda: SearchEngine(\n",
    "            post_process_fn=rerank_fn\n",
    "        )\n",
    "    } \n",
    ")\n",
    "\n",
    "result.save(\"eval_results\")"
   ]
  }
 ],
 "metadata": {
  "kernelspec": {
   "display_name": ".venv",
   "language": "python",
   "name": "python3"
  },
  "language_info": {
   "codemirror_mode": {
    "name": "ipython",
    "version": 3
   },
   "file_extension": ".py",
   "mimetype": "text/x-python",
   "name": "python",
   "nbconvert_exporter": "python",
   "pygments_lexer": "ipython3",
   "version": "3.12.2"
  }
 },
 "nbformat": 4,
 "nbformat_minor": 2
}
